{
 "cells": [
  {
   "cell_type": "markdown",
   "id": "d79d148e-612f-476f-b906-7be0ca16295c",
   "metadata": {},
   "source": [
    "# Data Science Tools and Ecosystem"
   ]
  },
  {
   "cell_type": "markdown",
   "id": "cccf7d46-616f-4ea6-849f-f4f4b609b8cb",
   "metadata": {},
   "source": [
    "In this notebook, Data Science Tools and Ecosystem are summarized."
   ]
  },
  {
   "cell_type": "markdown",
   "id": "afdfc87f-0a6b-4a42-b8b5-8e8a8d63a286",
   "metadata": {},
   "source": [
    "Some of the popular languages that Data Scientists use are:\n",
    "1. Python\n",
    "2. R\n",
    "3. SQL"
   ]
  },
  {
   "cell_type": "markdown",
   "id": "7ac60463-3787-411d-9fb2-bc9173327277",
   "metadata": {},
   "source": [
    "Some of the commonly used libraries used by Data Scientists include:\n",
    "1. Pandas\n",
    "2. NumPy\n",
    "3. Matplotlib\n"
   ]
  },
  {
   "attachments": {},
   "cell_type": "markdown",
   "id": "7d2ac7d8-4da3-4e41-835c-5b7dcf2f0d8c",
   "metadata": {},
   "source": [
    "| Data Science Tools |\n",
    "|--------------------|\n",
    "| Jupyter Notebook   |\n",
    "| RStudio            |\n",
    "| Apache Zeppelin    |"
   ]
  },
  {
   "cell_type": "markdown",
   "id": "787d4373-7ff1-4004-bed7-73fc37fe36bb",
   "metadata": {},
   "source": [
    "### Below are a few examples of evaluating arithmetic expressions in Python"
   ]
  },
  {
   "cell_type": "code",
   "execution_count": 1,
   "id": "cab9ae40-e521-43d2-95b2-902b4f516e3d",
   "metadata": {},
   "outputs": [
    {
     "data": {
      "text/plain": [
       "17"
      ]
     },
     "execution_count": 1,
     "metadata": {},
     "output_type": "execute_result"
    }
   ],
   "source": [
    "#This a simple arithmetic expression to mutiply then add integers\n",
    "(3*4)+5"
   ]
  },
  {
   "cell_type": "code",
   "execution_count": 3,
   "id": "14893fd3-82ab-4551-b95d-d1955692febe",
   "metadata": {},
   "outputs": [
    {
     "data": {
      "text/plain": [
       "3.3333333333333335"
      ]
     },
     "execution_count": 3,
     "metadata": {},
     "output_type": "execute_result"
    }
   ],
   "source": [
    "#This will convert 200 minutes to hours by diving by 60\n",
    "minutes = 200\n",
    "hours = minutes / 60\n",
    "hours\n"
   ]
  },
  {
   "cell_type": "markdown",
   "id": "2e6de5c8-4c98-465b-83cb-651b4b868d0f",
   "metadata": {},
   "source": [
    "**Objectives:**\n",
    "\n",
    "- Understand key concepts in Data Science and its applications.\n",
    "- Identify popular programming languages used in Data Science, such as Python, R, and SQL.\n",
    "- Explore the data analysis process from data collection to visualization.\n",
    "- Learn about machine learning algorithms and their implementation.\n",
    "- Familiarize with tools and libraries commonly used in Data Science like Pandas, NumPy, and Matplotlib."
   ]
  },
  {
   "cell_type": "markdown",
   "id": "a5519f6f-3e5d-43fe-8f8a-29e31dabf724",
   "metadata": {},
   "source": [
    "## Author\n",
    "Luiz"
   ]
  },
  {
   "cell_type": "code",
   "execution_count": null,
   "id": "ed7ac6e4-b84f-4abb-be42-b1e7234506ff",
   "metadata": {},
   "outputs": [],
   "source": []
  }
 ],
 "metadata": {
  "kernelspec": {
   "display_name": "Python 3 (ipykernel)",
   "language": "python",
   "name": "python3"
  },
  "language_info": {
   "codemirror_mode": {
    "name": "ipython",
    "version": 3
   },
   "file_extension": ".py",
   "mimetype": "text/x-python",
   "name": "python",
   "nbconvert_exporter": "python",
   "pygments_lexer": "ipython3",
   "version": "3.11.9"
  }
 },
 "nbformat": 4,
 "nbformat_minor": 5
}
